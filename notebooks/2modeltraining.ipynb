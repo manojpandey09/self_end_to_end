{
 "cells": [
  {
   "cell_type": "code",
   "execution_count": 1,
   "id": "15efd736",
   "metadata": {},
   "outputs": [],
   "source": [
    "import pandas as pd\n",
    "import numpy as np \n",
    "import seaborn as sns\n",
    "import matplotlib.pyplot as plt\n",
    "import warnings\n",
    "warnings.filterwarnings(\"ignore\")"
   ]
  },
  {
   "cell_type": "code",
   "execution_count": 7,
   "id": "26da276b",
   "metadata": {},
   "outputs": [],
   "source": [
    "\n",
    "data=pd.read_csv(\"./data/gemstone.csv\")"
   ]
  },
  {
   "cell_type": "code",
   "execution_count": 8,
   "id": "c6b7da47",
   "metadata": {},
   "outputs": [
    {
     "data": {
      "application/vnd.microsoft.datawrangler.viewer.v0+json": {
       "columns": [
        {
         "name": "index",
         "rawType": "int64",
         "type": "integer"
        },
        {
         "name": "id",
         "rawType": "int64",
         "type": "integer"
        },
        {
         "name": "carat",
         "rawType": "float64",
         "type": "float"
        },
        {
         "name": "cut",
         "rawType": "object",
         "type": "string"
        },
        {
         "name": "color",
         "rawType": "object",
         "type": "string"
        },
        {
         "name": "clarity",
         "rawType": "object",
         "type": "string"
        },
        {
         "name": "depth",
         "rawType": "float64",
         "type": "float"
        },
        {
         "name": "table",
         "rawType": "float64",
         "type": "float"
        },
        {
         "name": "x",
         "rawType": "float64",
         "type": "float"
        },
        {
         "name": "y",
         "rawType": "float64",
         "type": "float"
        },
        {
         "name": "z",
         "rawType": "float64",
         "type": "float"
        },
        {
         "name": "price",
         "rawType": "int64",
         "type": "integer"
        }
       ],
       "ref": "3bbb3729-c1d0-4fb5-bb9a-6a498c73c039",
       "rows": [
        [
         "0",
         "0",
         "1.52",
         "Premium",
         "F",
         "VS2",
         "62.2",
         "58.0",
         "7.27",
         "7.33",
         "4.55",
         "13619"
        ],
        [
         "1",
         "1",
         "2.03",
         "Very Good",
         "J",
         "SI2",
         "62.0",
         "58.0",
         "8.06",
         "8.12",
         "5.05",
         "13387"
        ],
        [
         "2",
         "2",
         "0.7",
         "Ideal",
         "G",
         "VS1",
         "61.2",
         "57.0",
         "5.69",
         "5.73",
         "3.5",
         "2772"
        ],
        [
         "3",
         "3",
         "0.32",
         "Ideal",
         "G",
         "VS1",
         "61.6",
         "56.0",
         "4.38",
         "4.41",
         "2.71",
         "666"
        ],
        [
         "4",
         "4",
         "1.7",
         "Premium",
         "G",
         "VS2",
         "62.6",
         "59.0",
         "7.65",
         "7.61",
         "4.77",
         "14453"
        ]
       ],
       "shape": {
        "columns": 11,
        "rows": 5
       }
      },
      "text/html": [
       "<div>\n",
       "<style scoped>\n",
       "    .dataframe tbody tr th:only-of-type {\n",
       "        vertical-align: middle;\n",
       "    }\n",
       "\n",
       "    .dataframe tbody tr th {\n",
       "        vertical-align: top;\n",
       "    }\n",
       "\n",
       "    .dataframe thead th {\n",
       "        text-align: right;\n",
       "    }\n",
       "</style>\n",
       "<table border=\"1\" class=\"dataframe\">\n",
       "  <thead>\n",
       "    <tr style=\"text-align: right;\">\n",
       "      <th></th>\n",
       "      <th>id</th>\n",
       "      <th>carat</th>\n",
       "      <th>cut</th>\n",
       "      <th>color</th>\n",
       "      <th>clarity</th>\n",
       "      <th>depth</th>\n",
       "      <th>table</th>\n",
       "      <th>x</th>\n",
       "      <th>y</th>\n",
       "      <th>z</th>\n",
       "      <th>price</th>\n",
       "    </tr>\n",
       "  </thead>\n",
       "  <tbody>\n",
       "    <tr>\n",
       "      <th>0</th>\n",
       "      <td>0</td>\n",
       "      <td>1.52</td>\n",
       "      <td>Premium</td>\n",
       "      <td>F</td>\n",
       "      <td>VS2</td>\n",
       "      <td>62.2</td>\n",
       "      <td>58.0</td>\n",
       "      <td>7.27</td>\n",
       "      <td>7.33</td>\n",
       "      <td>4.55</td>\n",
       "      <td>13619</td>\n",
       "    </tr>\n",
       "    <tr>\n",
       "      <th>1</th>\n",
       "      <td>1</td>\n",
       "      <td>2.03</td>\n",
       "      <td>Very Good</td>\n",
       "      <td>J</td>\n",
       "      <td>SI2</td>\n",
       "      <td>62.0</td>\n",
       "      <td>58.0</td>\n",
       "      <td>8.06</td>\n",
       "      <td>8.12</td>\n",
       "      <td>5.05</td>\n",
       "      <td>13387</td>\n",
       "    </tr>\n",
       "    <tr>\n",
       "      <th>2</th>\n",
       "      <td>2</td>\n",
       "      <td>0.70</td>\n",
       "      <td>Ideal</td>\n",
       "      <td>G</td>\n",
       "      <td>VS1</td>\n",
       "      <td>61.2</td>\n",
       "      <td>57.0</td>\n",
       "      <td>5.69</td>\n",
       "      <td>5.73</td>\n",
       "      <td>3.50</td>\n",
       "      <td>2772</td>\n",
       "    </tr>\n",
       "    <tr>\n",
       "      <th>3</th>\n",
       "      <td>3</td>\n",
       "      <td>0.32</td>\n",
       "      <td>Ideal</td>\n",
       "      <td>G</td>\n",
       "      <td>VS1</td>\n",
       "      <td>61.6</td>\n",
       "      <td>56.0</td>\n",
       "      <td>4.38</td>\n",
       "      <td>4.41</td>\n",
       "      <td>2.71</td>\n",
       "      <td>666</td>\n",
       "    </tr>\n",
       "    <tr>\n",
       "      <th>4</th>\n",
       "      <td>4</td>\n",
       "      <td>1.70</td>\n",
       "      <td>Premium</td>\n",
       "      <td>G</td>\n",
       "      <td>VS2</td>\n",
       "      <td>62.6</td>\n",
       "      <td>59.0</td>\n",
       "      <td>7.65</td>\n",
       "      <td>7.61</td>\n",
       "      <td>4.77</td>\n",
       "      <td>14453</td>\n",
       "    </tr>\n",
       "  </tbody>\n",
       "</table>\n",
       "</div>"
      ],
      "text/plain": [
       "   id  carat        cut color clarity  depth  table     x     y     z  price\n",
       "0   0   1.52    Premium     F     VS2   62.2   58.0  7.27  7.33  4.55  13619\n",
       "1   1   2.03  Very Good     J     SI2   62.0   58.0  8.06  8.12  5.05  13387\n",
       "2   2   0.70      Ideal     G     VS1   61.2   57.0  5.69  5.73  3.50   2772\n",
       "3   3   0.32      Ideal     G     VS1   61.6   56.0  4.38  4.41  2.71    666\n",
       "4   4   1.70    Premium     G     VS2   62.6   59.0  7.65  7.61  4.77  14453"
      ]
     },
     "execution_count": 8,
     "metadata": {},
     "output_type": "execute_result"
    }
   ],
   "source": [
    "data.head()"
   ]
  },
  {
   "cell_type": "code",
   "execution_count": 9,
   "id": "13074abe",
   "metadata": {},
   "outputs": [],
   "source": [
    "data.drop(labels = [\"id\"] ,axis=1,inplace=True)"
   ]
  },
  {
   "cell_type": "code",
   "execution_count": 10,
   "id": "f41bdaed",
   "metadata": {},
   "outputs": [
    {
     "data": {
      "application/vnd.microsoft.datawrangler.viewer.v0+json": {
       "columns": [
        {
         "name": "index",
         "rawType": "int64",
         "type": "integer"
        },
        {
         "name": "carat",
         "rawType": "float64",
         "type": "float"
        },
        {
         "name": "cut",
         "rawType": "object",
         "type": "string"
        },
        {
         "name": "color",
         "rawType": "object",
         "type": "string"
        },
        {
         "name": "clarity",
         "rawType": "object",
         "type": "string"
        },
        {
         "name": "depth",
         "rawType": "float64",
         "type": "float"
        },
        {
         "name": "table",
         "rawType": "float64",
         "type": "float"
        },
        {
         "name": "x",
         "rawType": "float64",
         "type": "float"
        },
        {
         "name": "y",
         "rawType": "float64",
         "type": "float"
        },
        {
         "name": "z",
         "rawType": "float64",
         "type": "float"
        },
        {
         "name": "price",
         "rawType": "int64",
         "type": "integer"
        }
       ],
       "ref": "c583d4a6-e193-4b25-87df-80361628e791",
       "rows": [
        [
         "0",
         "1.52",
         "Premium",
         "F",
         "VS2",
         "62.2",
         "58.0",
         "7.27",
         "7.33",
         "4.55",
         "13619"
        ],
        [
         "1",
         "2.03",
         "Very Good",
         "J",
         "SI2",
         "62.0",
         "58.0",
         "8.06",
         "8.12",
         "5.05",
         "13387"
        ],
        [
         "2",
         "0.7",
         "Ideal",
         "G",
         "VS1",
         "61.2",
         "57.0",
         "5.69",
         "5.73",
         "3.5",
         "2772"
        ],
        [
         "3",
         "0.32",
         "Ideal",
         "G",
         "VS1",
         "61.6",
         "56.0",
         "4.38",
         "4.41",
         "2.71",
         "666"
        ],
        [
         "4",
         "1.7",
         "Premium",
         "G",
         "VS2",
         "62.6",
         "59.0",
         "7.65",
         "7.61",
         "4.77",
         "14453"
        ]
       ],
       "shape": {
        "columns": 10,
        "rows": 5
       }
      },
      "text/html": [
       "<div>\n",
       "<style scoped>\n",
       "    .dataframe tbody tr th:only-of-type {\n",
       "        vertical-align: middle;\n",
       "    }\n",
       "\n",
       "    .dataframe tbody tr th {\n",
       "        vertical-align: top;\n",
       "    }\n",
       "\n",
       "    .dataframe thead th {\n",
       "        text-align: right;\n",
       "    }\n",
       "</style>\n",
       "<table border=\"1\" class=\"dataframe\">\n",
       "  <thead>\n",
       "    <tr style=\"text-align: right;\">\n",
       "      <th></th>\n",
       "      <th>carat</th>\n",
       "      <th>cut</th>\n",
       "      <th>color</th>\n",
       "      <th>clarity</th>\n",
       "      <th>depth</th>\n",
       "      <th>table</th>\n",
       "      <th>x</th>\n",
       "      <th>y</th>\n",
       "      <th>z</th>\n",
       "      <th>price</th>\n",
       "    </tr>\n",
       "  </thead>\n",
       "  <tbody>\n",
       "    <tr>\n",
       "      <th>0</th>\n",
       "      <td>1.52</td>\n",
       "      <td>Premium</td>\n",
       "      <td>F</td>\n",
       "      <td>VS2</td>\n",
       "      <td>62.2</td>\n",
       "      <td>58.0</td>\n",
       "      <td>7.27</td>\n",
       "      <td>7.33</td>\n",
       "      <td>4.55</td>\n",
       "      <td>13619</td>\n",
       "    </tr>\n",
       "    <tr>\n",
       "      <th>1</th>\n",
       "      <td>2.03</td>\n",
       "      <td>Very Good</td>\n",
       "      <td>J</td>\n",
       "      <td>SI2</td>\n",
       "      <td>62.0</td>\n",
       "      <td>58.0</td>\n",
       "      <td>8.06</td>\n",
       "      <td>8.12</td>\n",
       "      <td>5.05</td>\n",
       "      <td>13387</td>\n",
       "    </tr>\n",
       "    <tr>\n",
       "      <th>2</th>\n",
       "      <td>0.70</td>\n",
       "      <td>Ideal</td>\n",
       "      <td>G</td>\n",
       "      <td>VS1</td>\n",
       "      <td>61.2</td>\n",
       "      <td>57.0</td>\n",
       "      <td>5.69</td>\n",
       "      <td>5.73</td>\n",
       "      <td>3.50</td>\n",
       "      <td>2772</td>\n",
       "    </tr>\n",
       "    <tr>\n",
       "      <th>3</th>\n",
       "      <td>0.32</td>\n",
       "      <td>Ideal</td>\n",
       "      <td>G</td>\n",
       "      <td>VS1</td>\n",
       "      <td>61.6</td>\n",
       "      <td>56.0</td>\n",
       "      <td>4.38</td>\n",
       "      <td>4.41</td>\n",
       "      <td>2.71</td>\n",
       "      <td>666</td>\n",
       "    </tr>\n",
       "    <tr>\n",
       "      <th>4</th>\n",
       "      <td>1.70</td>\n",
       "      <td>Premium</td>\n",
       "      <td>G</td>\n",
       "      <td>VS2</td>\n",
       "      <td>62.6</td>\n",
       "      <td>59.0</td>\n",
       "      <td>7.65</td>\n",
       "      <td>7.61</td>\n",
       "      <td>4.77</td>\n",
       "      <td>14453</td>\n",
       "    </tr>\n",
       "  </tbody>\n",
       "</table>\n",
       "</div>"
      ],
      "text/plain": [
       "   carat        cut color clarity  depth  table     x     y     z  price\n",
       "0   1.52    Premium     F     VS2   62.2   58.0  7.27  7.33  4.55  13619\n",
       "1   2.03  Very Good     J     SI2   62.0   58.0  8.06  8.12  5.05  13387\n",
       "2   0.70      Ideal     G     VS1   61.2   57.0  5.69  5.73  3.50   2772\n",
       "3   0.32      Ideal     G     VS1   61.6   56.0  4.38  4.41  2.71    666\n",
       "4   1.70    Premium     G     VS2   62.6   59.0  7.65  7.61  4.77  14453"
      ]
     },
     "execution_count": 10,
     "metadata": {},
     "output_type": "execute_result"
    }
   ],
   "source": [
    "data.head()"
   ]
  },
  {
   "cell_type": "code",
   "execution_count": 11,
   "id": "a8ff25c2",
   "metadata": {},
   "outputs": [
    {
     "data": {
      "application/vnd.microsoft.datawrangler.viewer.v0+json": {
       "columns": [
        {
         "name": "index",
         "rawType": "int64",
         "type": "integer"
        },
        {
         "name": "carat",
         "rawType": "float64",
         "type": "float"
        },
        {
         "name": "cut",
         "rawType": "object",
         "type": "string"
        },
        {
         "name": "color",
         "rawType": "object",
         "type": "string"
        },
        {
         "name": "clarity",
         "rawType": "object",
         "type": "string"
        },
        {
         "name": "depth",
         "rawType": "float64",
         "type": "float"
        },
        {
         "name": "table",
         "rawType": "float64",
         "type": "float"
        },
        {
         "name": "x",
         "rawType": "float64",
         "type": "float"
        },
        {
         "name": "y",
         "rawType": "float64",
         "type": "float"
        },
        {
         "name": "z",
         "rawType": "float64",
         "type": "float"
        }
       ],
       "ref": "a993479f-a220-4af6-8392-b8a736c11ca5",
       "rows": [
        [
         "0",
         "1.52",
         "Premium",
         "F",
         "VS2",
         "62.2",
         "58.0",
         "7.27",
         "7.33",
         "4.55"
        ],
        [
         "1",
         "2.03",
         "Very Good",
         "J",
         "SI2",
         "62.0",
         "58.0",
         "8.06",
         "8.12",
         "5.05"
        ],
        [
         "2",
         "0.7",
         "Ideal",
         "G",
         "VS1",
         "61.2",
         "57.0",
         "5.69",
         "5.73",
         "3.5"
        ],
        [
         "3",
         "0.32",
         "Ideal",
         "G",
         "VS1",
         "61.6",
         "56.0",
         "4.38",
         "4.41",
         "2.71"
        ],
        [
         "4",
         "1.7",
         "Premium",
         "G",
         "VS2",
         "62.6",
         "59.0",
         "7.65",
         "7.61",
         "4.77"
        ],
        [
         "5",
         "1.51",
         "Very Good",
         "J",
         "SI1",
         "62.8",
         "58.0",
         "7.34",
         "7.29",
         "4.59"
        ],
        [
         "6",
         "0.74",
         "Ideal",
         "E",
         "VS2",
         "61.8",
         "57.0",
         "5.76",
         "5.79",
         "3.57"
        ],
        [
         "7",
         "1.34",
         "Premium",
         "G",
         "SI2",
         "62.5",
         "57.0",
         "7.0",
         "7.05",
         "4.38"
        ],
        [
         "8",
         "0.3",
         "Ideal",
         "F",
         "IF",
         "62.0",
         "56.0",
         "4.35",
         "4.37",
         "2.7"
        ],
        [
         "9",
         "0.3",
         "Good",
         "J",
         "VS1",
         "63.6",
         "57.0",
         "4.26",
         "4.28",
         "2.72"
        ],
        [
         "10",
         "1.01",
         "Very Good",
         "G",
         "VS2",
         "63.1",
         "57.0",
         "6.4",
         "6.34",
         "4.03"
        ],
        [
         "11",
         "0.23",
         "Ideal",
         "E",
         "VVS2",
         "62.0",
         "57.0",
         "3.96",
         "3.98",
         "2.46"
        ],
        [
         "12",
         "1.01",
         "Good",
         "D",
         "SI1",
         "63.1",
         "56.0",
         "6.41",
         "6.35",
         "4.03"
        ],
        [
         "13",
         "0.31",
         "Ideal",
         "G",
         "VVS1",
         "61.8",
         "56.0",
         "4.37",
         "4.39",
         "2.71"
        ],
        [
         "14",
         "1.01",
         "Good",
         "H",
         "SI1",
         "62.6",
         "59.0",
         "6.34",
         "6.4",
         "3.99"
        ],
        [
         "15",
         "0.33",
         "Premium",
         "E",
         "VS2",
         "61.7",
         "59.0",
         "4.39",
         "4.43",
         "2.72"
        ],
        [
         "16",
         "1.06",
         "Premium",
         "E",
         "SI2",
         "60.9",
         "59.0",
         "6.61",
         "6.56",
         "4.01"
        ],
        [
         "17",
         "0.26",
         "Very Good",
         "F",
         "VVS2",
         "61.7",
         "57.0",
         "4.1",
         "4.13",
         "2.53"
        ],
        [
         "18",
         "1.01",
         "Premium",
         "G",
         "VVS1",
         "61.8",
         "58.0",
         "6.44",
         "6.37",
         "3.96"
        ],
        [
         "19",
         "0.73",
         "Very Good",
         "G",
         "VS2",
         "63.1",
         "57.0",
         "5.77",
         "5.75",
         "3.63"
        ],
        [
         "20",
         "0.7",
         "Ideal",
         "F",
         "VS1",
         "62.2",
         "56.0",
         "5.67",
         "5.72",
         "3.54"
        ],
        [
         "21",
         "0.39",
         "Ideal",
         "E",
         "VS2",
         "61.6",
         "54.0",
         "4.67",
         "4.72",
         "2.89"
        ],
        [
         "22",
         "0.25",
         "Ideal",
         "E",
         "VS2",
         "61.4",
         "57.0",
         "4.05",
         "4.08",
         "2.48"
        ],
        [
         "23",
         "0.33",
         "Premium",
         "H",
         "SI1",
         "62.1",
         "59.0",
         "4.43",
         "4.46",
         "2.76"
        ],
        [
         "24",
         "0.7",
         "Ideal",
         "F",
         "SI1",
         "61.8",
         "54.0",
         "5.71",
         "5.73",
         "3.54"
        ],
        [
         "25",
         "0.4",
         "Very Good",
         "F",
         "VS1",
         "62.3",
         "54.0",
         "4.69",
         "4.73",
         "2.93"
        ],
        [
         "26",
         "0.71",
         "Ideal",
         "E",
         "SI1",
         "61.7",
         "56.0",
         "5.74",
         "5.76",
         "3.55"
        ],
        [
         "27",
         "0.5",
         "Ideal",
         "E",
         "VS1",
         "61.4",
         "54.0",
         "5.13",
         "5.18",
         "3.17"
        ],
        [
         "28",
         "1.11",
         "Premium",
         "D",
         "SI1",
         "60.6",
         "59.0",
         "6.74",
         "6.68",
         "4.06"
        ],
        [
         "29",
         "0.37",
         "Premium",
         "F",
         "SI1",
         "61.4",
         "60.0",
         "4.63",
         "4.61",
         "2.83"
        ],
        [
         "30",
         "0.38",
         "Ideal",
         "G",
         "SI1",
         "60.7",
         "57.0",
         "4.68",
         "4.73",
         "2.86"
        ],
        [
         "31",
         "0.9",
         "Fair",
         "F",
         "SI1",
         "66.8",
         "58.0",
         "6.05",
         "5.99",
         "3.97"
        ],
        [
         "32",
         "0.7",
         "Ideal",
         "I",
         "VS1",
         "62.8",
         "54.0",
         "5.66",
         "5.68",
         "3.56"
        ],
        [
         "33",
         "0.35",
         "Ideal",
         "D",
         "VS1",
         "60.9",
         "56.0",
         "4.58",
         "4.61",
         "2.8"
        ],
        [
         "34",
         "0.41",
         "Ideal",
         "D",
         "VS1",
         "62.9",
         "54.0",
         "4.73",
         "4.76",
         "2.98"
        ],
        [
         "35",
         "0.57",
         "Ideal",
         "G",
         "SI1",
         "61.5",
         "55.0",
         "5.37",
         "5.32",
         "3.31"
        ],
        [
         "36",
         "0.32",
         "Very Good",
         "H",
         "VVS2",
         "63.5",
         "56.0",
         "4.34",
         "4.31",
         "2.74"
        ],
        [
         "37",
         "0.35",
         "Ideal",
         "F",
         "VS2",
         "61.4",
         "56.0",
         "4.53",
         "4.55",
         "2.79"
        ],
        [
         "38",
         "0.9",
         "Very Good",
         "E",
         "SI2",
         "62.9",
         "57.0",
         "6.13",
         "6.18",
         "3.88"
        ],
        [
         "39",
         "0.4",
         "Ideal",
         "D",
         "SI1",
         "61.6",
         "56.0",
         "4.74",
         "4.77",
         "2.93"
        ],
        [
         "40",
         "0.7",
         "Very Good",
         "D",
         "VS2",
         "62.1",
         "58.0",
         "5.65",
         "5.68",
         "3.52"
        ],
        [
         "41",
         "0.3",
         "Ideal",
         "D",
         "VS2",
         "61.3",
         "59.0",
         "4.33",
         "4.31",
         "2.64"
        ],
        [
         "42",
         "0.31",
         "Ideal",
         "H",
         "VS2",
         "61.6",
         "54.0",
         "4.35",
         "4.38",
         "2.69"
        ],
        [
         "43",
         "1.5",
         "Very Good",
         "G",
         "SI1",
         "63.3",
         "56.0",
         "7.27",
         "7.29",
         "4.61"
        ],
        [
         "44",
         "1.0",
         "Premium",
         "E",
         "SI1",
         "62.7",
         "60.0",
         "6.43",
         "6.39",
         "4.02"
        ],
        [
         "45",
         "1.0",
         "Ideal",
         "G",
         "SI1",
         "62.7",
         "54.0",
         "6.38",
         "6.32",
         "3.98"
        ],
        [
         "46",
         "0.9",
         "Premium",
         "E",
         "SI1",
         "61.8",
         "61.0",
         "6.19",
         "6.12",
         "3.8"
        ],
        [
         "47",
         "0.3",
         "Premium",
         "F",
         "VS2",
         "62.2",
         "59.0",
         "4.33",
         "4.29",
         "2.68"
        ],
        [
         "48",
         "0.42",
         "Ideal",
         "G",
         "VS1",
         "61.6",
         "56.0",
         "4.82",
         "4.85",
         "2.98"
        ],
        [
         "49",
         "1.04",
         "Fair",
         "G",
         "VS1",
         "65.4",
         "59.0",
         "6.31",
         "6.39",
         "4.16"
        ]
       ],
       "shape": {
        "columns": 9,
        "rows": 193573
       }
      },
      "text/html": [
       "<div>\n",
       "<style scoped>\n",
       "    .dataframe tbody tr th:only-of-type {\n",
       "        vertical-align: middle;\n",
       "    }\n",
       "\n",
       "    .dataframe tbody tr th {\n",
       "        vertical-align: top;\n",
       "    }\n",
       "\n",
       "    .dataframe thead th {\n",
       "        text-align: right;\n",
       "    }\n",
       "</style>\n",
       "<table border=\"1\" class=\"dataframe\">\n",
       "  <thead>\n",
       "    <tr style=\"text-align: right;\">\n",
       "      <th></th>\n",
       "      <th>carat</th>\n",
       "      <th>cut</th>\n",
       "      <th>color</th>\n",
       "      <th>clarity</th>\n",
       "      <th>depth</th>\n",
       "      <th>table</th>\n",
       "      <th>x</th>\n",
       "      <th>y</th>\n",
       "      <th>z</th>\n",
       "    </tr>\n",
       "  </thead>\n",
       "  <tbody>\n",
       "    <tr>\n",
       "      <th>0</th>\n",
       "      <td>1.52</td>\n",
       "      <td>Premium</td>\n",
       "      <td>F</td>\n",
       "      <td>VS2</td>\n",
       "      <td>62.2</td>\n",
       "      <td>58.0</td>\n",
       "      <td>7.27</td>\n",
       "      <td>7.33</td>\n",
       "      <td>4.55</td>\n",
       "    </tr>\n",
       "    <tr>\n",
       "      <th>1</th>\n",
       "      <td>2.03</td>\n",
       "      <td>Very Good</td>\n",
       "      <td>J</td>\n",
       "      <td>SI2</td>\n",
       "      <td>62.0</td>\n",
       "      <td>58.0</td>\n",
       "      <td>8.06</td>\n",
       "      <td>8.12</td>\n",
       "      <td>5.05</td>\n",
       "    </tr>\n",
       "    <tr>\n",
       "      <th>2</th>\n",
       "      <td>0.70</td>\n",
       "      <td>Ideal</td>\n",
       "      <td>G</td>\n",
       "      <td>VS1</td>\n",
       "      <td>61.2</td>\n",
       "      <td>57.0</td>\n",
       "      <td>5.69</td>\n",
       "      <td>5.73</td>\n",
       "      <td>3.50</td>\n",
       "    </tr>\n",
       "    <tr>\n",
       "      <th>3</th>\n",
       "      <td>0.32</td>\n",
       "      <td>Ideal</td>\n",
       "      <td>G</td>\n",
       "      <td>VS1</td>\n",
       "      <td>61.6</td>\n",
       "      <td>56.0</td>\n",
       "      <td>4.38</td>\n",
       "      <td>4.41</td>\n",
       "      <td>2.71</td>\n",
       "    </tr>\n",
       "    <tr>\n",
       "      <th>4</th>\n",
       "      <td>1.70</td>\n",
       "      <td>Premium</td>\n",
       "      <td>G</td>\n",
       "      <td>VS2</td>\n",
       "      <td>62.6</td>\n",
       "      <td>59.0</td>\n",
       "      <td>7.65</td>\n",
       "      <td>7.61</td>\n",
       "      <td>4.77</td>\n",
       "    </tr>\n",
       "    <tr>\n",
       "      <th>...</th>\n",
       "      <td>...</td>\n",
       "      <td>...</td>\n",
       "      <td>...</td>\n",
       "      <td>...</td>\n",
       "      <td>...</td>\n",
       "      <td>...</td>\n",
       "      <td>...</td>\n",
       "      <td>...</td>\n",
       "      <td>...</td>\n",
       "    </tr>\n",
       "    <tr>\n",
       "      <th>193568</th>\n",
       "      <td>0.31</td>\n",
       "      <td>Ideal</td>\n",
       "      <td>D</td>\n",
       "      <td>VVS2</td>\n",
       "      <td>61.1</td>\n",
       "      <td>56.0</td>\n",
       "      <td>4.35</td>\n",
       "      <td>4.39</td>\n",
       "      <td>2.67</td>\n",
       "    </tr>\n",
       "    <tr>\n",
       "      <th>193569</th>\n",
       "      <td>0.70</td>\n",
       "      <td>Premium</td>\n",
       "      <td>G</td>\n",
       "      <td>VVS2</td>\n",
       "      <td>60.3</td>\n",
       "      <td>58.0</td>\n",
       "      <td>5.75</td>\n",
       "      <td>5.77</td>\n",
       "      <td>3.47</td>\n",
       "    </tr>\n",
       "    <tr>\n",
       "      <th>193570</th>\n",
       "      <td>0.73</td>\n",
       "      <td>Very Good</td>\n",
       "      <td>F</td>\n",
       "      <td>SI1</td>\n",
       "      <td>63.1</td>\n",
       "      <td>57.0</td>\n",
       "      <td>5.72</td>\n",
       "      <td>5.75</td>\n",
       "      <td>3.62</td>\n",
       "    </tr>\n",
       "    <tr>\n",
       "      <th>193571</th>\n",
       "      <td>0.34</td>\n",
       "      <td>Very Good</td>\n",
       "      <td>D</td>\n",
       "      <td>SI1</td>\n",
       "      <td>62.9</td>\n",
       "      <td>55.0</td>\n",
       "      <td>4.45</td>\n",
       "      <td>4.49</td>\n",
       "      <td>2.81</td>\n",
       "    </tr>\n",
       "    <tr>\n",
       "      <th>193572</th>\n",
       "      <td>0.71</td>\n",
       "      <td>Good</td>\n",
       "      <td>E</td>\n",
       "      <td>SI2</td>\n",
       "      <td>60.8</td>\n",
       "      <td>64.0</td>\n",
       "      <td>5.73</td>\n",
       "      <td>5.71</td>\n",
       "      <td>3.48</td>\n",
       "    </tr>\n",
       "  </tbody>\n",
       "</table>\n",
       "<p>193573 rows × 9 columns</p>\n",
       "</div>"
      ],
      "text/plain": [
       "        carat        cut color clarity  depth  table     x     y     z\n",
       "0        1.52    Premium     F     VS2   62.2   58.0  7.27  7.33  4.55\n",
       "1        2.03  Very Good     J     SI2   62.0   58.0  8.06  8.12  5.05\n",
       "2        0.70      Ideal     G     VS1   61.2   57.0  5.69  5.73  3.50\n",
       "3        0.32      Ideal     G     VS1   61.6   56.0  4.38  4.41  2.71\n",
       "4        1.70    Premium     G     VS2   62.6   59.0  7.65  7.61  4.77\n",
       "...       ...        ...   ...     ...    ...    ...   ...   ...   ...\n",
       "193568   0.31      Ideal     D    VVS2   61.1   56.0  4.35  4.39  2.67\n",
       "193569   0.70    Premium     G    VVS2   60.3   58.0  5.75  5.77  3.47\n",
       "193570   0.73  Very Good     F     SI1   63.1   57.0  5.72  5.75  3.62\n",
       "193571   0.34  Very Good     D     SI1   62.9   55.0  4.45  4.49  2.81\n",
       "193572   0.71       Good     E     SI2   60.8   64.0  5.73  5.71  3.48\n",
       "\n",
       "[193573 rows x 9 columns]"
      ]
     },
     "execution_count": 11,
     "metadata": {},
     "output_type": "execute_result"
    }
   ],
   "source": [
    "#fx the dependent variable and independent variable \n",
    "x = data.drop(labels = [\"price\"],axis=1)\n",
    "x"
   ]
  },
  {
   "cell_type": "code",
   "execution_count": 12,
   "id": "1804b71a",
   "metadata": {},
   "outputs": [
    {
     "data": {
      "application/vnd.microsoft.datawrangler.viewer.v0+json": {
       "columns": [
        {
         "name": "index",
         "rawType": "int64",
         "type": "integer"
        },
        {
         "name": "price",
         "rawType": "int64",
         "type": "integer"
        }
       ],
       "ref": "8e7e987c-88d9-4403-be0a-cbe4affbbda7",
       "rows": [
        [
         "0",
         "13619"
        ],
        [
         "1",
         "13387"
        ],
        [
         "2",
         "2772"
        ],
        [
         "3",
         "666"
        ],
        [
         "4",
         "14453"
        ],
        [
         "5",
         "7506"
        ],
        [
         "6",
         "3229"
        ],
        [
         "7",
         "6224"
        ],
        [
         "8",
         "886"
        ],
        [
         "9",
         "421"
        ],
        [
         "10",
         "5914"
        ],
        [
         "11",
         "505"
        ],
        [
         "12",
         "5703"
        ],
        [
         "13",
         "789"
        ],
        [
         "14",
         "4612"
        ],
        [
         "15",
         "723"
        ],
        [
         "16",
         "4399"
        ],
        [
         "17",
         "574"
        ],
        [
         "18",
         "8701"
        ],
        [
         "19",
         "2652"
        ],
        [
         "20",
         "3018"
        ],
        [
         "21",
         "853"
        ],
        [
         "22",
         "470"
        ],
        [
         "23",
         "631"
        ],
        [
         "24",
         "2473"
        ],
        [
         "25",
         "905"
        ],
        [
         "26",
         "2404"
        ],
        [
         "27",
         "1778"
        ],
        [
         "28",
         "5877"
        ],
        [
         "29",
         "945"
        ],
        [
         "30",
         "755"
        ],
        [
         "31",
         "2977"
        ],
        [
         "32",
         "2390"
        ],
        [
         "33",
         "1065"
        ],
        [
         "34",
         "1067"
        ],
        [
         "35",
         "1378"
        ],
        [
         "36",
         "730"
        ],
        [
         "37",
         "806"
        ],
        [
         "38",
         "3084"
        ],
        [
         "39",
         "791"
        ],
        [
         "40",
         "3303"
        ],
        [
         "41",
         "911"
        ],
        [
         "42",
         "523"
        ],
        [
         "43",
         "10574"
        ],
        [
         "44",
         "5105"
        ],
        [
         "45",
         "4672"
        ],
        [
         "46",
         "3625"
        ],
        [
         "47",
         "524"
        ],
        [
         "48",
         "877"
        ],
        [
         "49",
         "6342"
        ]
       ],
       "shape": {
        "columns": 1,
        "rows": 193573
       }
      },
      "text/plain": [
       "0         13619\n",
       "1         13387\n",
       "2          2772\n",
       "3           666\n",
       "4         14453\n",
       "          ...  \n",
       "193568     1130\n",
       "193569     2874\n",
       "193570     3036\n",
       "193571      681\n",
       "193572     2258\n",
       "Name: price, Length: 193573, dtype: int64"
      ]
     },
     "execution_count": 12,
     "metadata": {},
     "output_type": "execute_result"
    }
   ],
   "source": [
    "#dropinig independent variable \n",
    "y = data[\"price\"]\n",
    "y"
   ]
  },
  {
   "cell_type": "code",
   "execution_count": 13,
   "id": "888f7192",
   "metadata": {},
   "outputs": [
    {
     "data": {
      "application/vnd.microsoft.datawrangler.viewer.v0+json": {
       "columns": [
        {
         "name": "index",
         "rawType": "int64",
         "type": "integer"
        },
        {
         "name": "cut",
         "rawType": "object",
         "type": "string"
        },
        {
         "name": "color",
         "rawType": "object",
         "type": "string"
        },
        {
         "name": "clarity",
         "rawType": "object",
         "type": "string"
        }
       ],
       "ref": "059830de-be4b-4d8d-bbaa-510085df532f",
       "rows": [
        [
         "0",
         "Premium",
         "F",
         "VS2"
        ],
        [
         "1",
         "Very Good",
         "J",
         "SI2"
        ],
        [
         "2",
         "Ideal",
         "G",
         "VS1"
        ],
        [
         "3",
         "Ideal",
         "G",
         "VS1"
        ],
        [
         "4",
         "Premium",
         "G",
         "VS2"
        ],
        [
         "5",
         "Very Good",
         "J",
         "SI1"
        ],
        [
         "6",
         "Ideal",
         "E",
         "VS2"
        ],
        [
         "7",
         "Premium",
         "G",
         "SI2"
        ],
        [
         "8",
         "Ideal",
         "F",
         "IF"
        ],
        [
         "9",
         "Good",
         "J",
         "VS1"
        ],
        [
         "10",
         "Very Good",
         "G",
         "VS2"
        ],
        [
         "11",
         "Ideal",
         "E",
         "VVS2"
        ],
        [
         "12",
         "Good",
         "D",
         "SI1"
        ],
        [
         "13",
         "Ideal",
         "G",
         "VVS1"
        ],
        [
         "14",
         "Good",
         "H",
         "SI1"
        ],
        [
         "15",
         "Premium",
         "E",
         "VS2"
        ],
        [
         "16",
         "Premium",
         "E",
         "SI2"
        ],
        [
         "17",
         "Very Good",
         "F",
         "VVS2"
        ],
        [
         "18",
         "Premium",
         "G",
         "VVS1"
        ],
        [
         "19",
         "Very Good",
         "G",
         "VS2"
        ],
        [
         "20",
         "Ideal",
         "F",
         "VS1"
        ],
        [
         "21",
         "Ideal",
         "E",
         "VS2"
        ],
        [
         "22",
         "Ideal",
         "E",
         "VS2"
        ],
        [
         "23",
         "Premium",
         "H",
         "SI1"
        ],
        [
         "24",
         "Ideal",
         "F",
         "SI1"
        ],
        [
         "25",
         "Very Good",
         "F",
         "VS1"
        ],
        [
         "26",
         "Ideal",
         "E",
         "SI1"
        ],
        [
         "27",
         "Ideal",
         "E",
         "VS1"
        ],
        [
         "28",
         "Premium",
         "D",
         "SI1"
        ],
        [
         "29",
         "Premium",
         "F",
         "SI1"
        ],
        [
         "30",
         "Ideal",
         "G",
         "SI1"
        ],
        [
         "31",
         "Fair",
         "F",
         "SI1"
        ],
        [
         "32",
         "Ideal",
         "I",
         "VS1"
        ],
        [
         "33",
         "Ideal",
         "D",
         "VS1"
        ],
        [
         "34",
         "Ideal",
         "D",
         "VS1"
        ],
        [
         "35",
         "Ideal",
         "G",
         "SI1"
        ],
        [
         "36",
         "Very Good",
         "H",
         "VVS2"
        ],
        [
         "37",
         "Ideal",
         "F",
         "VS2"
        ],
        [
         "38",
         "Very Good",
         "E",
         "SI2"
        ],
        [
         "39",
         "Ideal",
         "D",
         "SI1"
        ],
        [
         "40",
         "Very Good",
         "D",
         "VS2"
        ],
        [
         "41",
         "Ideal",
         "D",
         "VS2"
        ],
        [
         "42",
         "Ideal",
         "H",
         "VS2"
        ],
        [
         "43",
         "Very Good",
         "G",
         "SI1"
        ],
        [
         "44",
         "Premium",
         "E",
         "SI1"
        ],
        [
         "45",
         "Ideal",
         "G",
         "SI1"
        ],
        [
         "46",
         "Premium",
         "E",
         "SI1"
        ],
        [
         "47",
         "Premium",
         "F",
         "VS2"
        ],
        [
         "48",
         "Ideal",
         "G",
         "VS1"
        ],
        [
         "49",
         "Fair",
         "G",
         "VS1"
        ]
       ],
       "shape": {
        "columns": 3,
        "rows": 193573
       }
      },
      "text/html": [
       "<div>\n",
       "<style scoped>\n",
       "    .dataframe tbody tr th:only-of-type {\n",
       "        vertical-align: middle;\n",
       "    }\n",
       "\n",
       "    .dataframe tbody tr th {\n",
       "        vertical-align: top;\n",
       "    }\n",
       "\n",
       "    .dataframe thead th {\n",
       "        text-align: right;\n",
       "    }\n",
       "</style>\n",
       "<table border=\"1\" class=\"dataframe\">\n",
       "  <thead>\n",
       "    <tr style=\"text-align: right;\">\n",
       "      <th></th>\n",
       "      <th>cut</th>\n",
       "      <th>color</th>\n",
       "      <th>clarity</th>\n",
       "    </tr>\n",
       "  </thead>\n",
       "  <tbody>\n",
       "    <tr>\n",
       "      <th>0</th>\n",
       "      <td>Premium</td>\n",
       "      <td>F</td>\n",
       "      <td>VS2</td>\n",
       "    </tr>\n",
       "    <tr>\n",
       "      <th>1</th>\n",
       "      <td>Very Good</td>\n",
       "      <td>J</td>\n",
       "      <td>SI2</td>\n",
       "    </tr>\n",
       "    <tr>\n",
       "      <th>2</th>\n",
       "      <td>Ideal</td>\n",
       "      <td>G</td>\n",
       "      <td>VS1</td>\n",
       "    </tr>\n",
       "    <tr>\n",
       "      <th>3</th>\n",
       "      <td>Ideal</td>\n",
       "      <td>G</td>\n",
       "      <td>VS1</td>\n",
       "    </tr>\n",
       "    <tr>\n",
       "      <th>4</th>\n",
       "      <td>Premium</td>\n",
       "      <td>G</td>\n",
       "      <td>VS2</td>\n",
       "    </tr>\n",
       "    <tr>\n",
       "      <th>...</th>\n",
       "      <td>...</td>\n",
       "      <td>...</td>\n",
       "      <td>...</td>\n",
       "    </tr>\n",
       "    <tr>\n",
       "      <th>193568</th>\n",
       "      <td>Ideal</td>\n",
       "      <td>D</td>\n",
       "      <td>VVS2</td>\n",
       "    </tr>\n",
       "    <tr>\n",
       "      <th>193569</th>\n",
       "      <td>Premium</td>\n",
       "      <td>G</td>\n",
       "      <td>VVS2</td>\n",
       "    </tr>\n",
       "    <tr>\n",
       "      <th>193570</th>\n",
       "      <td>Very Good</td>\n",
       "      <td>F</td>\n",
       "      <td>SI1</td>\n",
       "    </tr>\n",
       "    <tr>\n",
       "      <th>193571</th>\n",
       "      <td>Very Good</td>\n",
       "      <td>D</td>\n",
       "      <td>SI1</td>\n",
       "    </tr>\n",
       "    <tr>\n",
       "      <th>193572</th>\n",
       "      <td>Good</td>\n",
       "      <td>E</td>\n",
       "      <td>SI2</td>\n",
       "    </tr>\n",
       "  </tbody>\n",
       "</table>\n",
       "<p>193573 rows × 3 columns</p>\n",
       "</div>"
      ],
      "text/plain": [
       "              cut color clarity\n",
       "0         Premium     F     VS2\n",
       "1       Very Good     J     SI2\n",
       "2           Ideal     G     VS1\n",
       "3           Ideal     G     VS1\n",
       "4         Premium     G     VS2\n",
       "...           ...   ...     ...\n",
       "193568      Ideal     D    VVS2\n",
       "193569    Premium     G    VVS2\n",
       "193570  Very Good     F     SI1\n",
       "193571  Very Good     D     SI1\n",
       "193572       Good     E     SI2\n",
       "\n",
       "[193573 rows x 3 columns]"
      ]
     },
     "execution_count": 13,
     "metadata": {},
     "output_type": "execute_result"
    }
   ],
   "source": [
    "x.select_dtypes(include=[\"object\"])"
   ]
  },
  {
   "cell_type": "code",
   "execution_count": 14,
   "id": "5aed22a2",
   "metadata": {},
   "outputs": [
    {
     "data": {
      "text/plain": [
       "Index(['carat', 'depth', 'table', 'x', 'y', 'z'], dtype='object')"
      ]
     },
     "execution_count": 14,
     "metadata": {},
     "output_type": "execute_result"
    }
   ],
   "source": [
    "x.select_dtypes(exclude='object').columns"
   ]
  },
  {
   "cell_type": "code",
   "execution_count": 15,
   "id": "919f5406",
   "metadata": {},
   "outputs": [],
   "source": [
    "categorical_cols = x.select_dtypes(include='object').columns\n",
    "numerical_cols = x.select_dtypes(exclude='object').columns"
   ]
  },
  {
   "cell_type": "code",
   "execution_count": 16,
   "id": "84d4ebdb",
   "metadata": {},
   "outputs": [
    {
     "data": {
      "text/plain": [
       "array(['F', 'J', 'G', 'E', 'D', 'H', 'I'], dtype=object)"
      ]
     },
     "execution_count": 16,
     "metadata": {},
     "output_type": "execute_result"
    }
   ],
   "source": [
    "data['color'].unique()"
   ]
  },
  {
   "cell_type": "code",
   "execution_count": 17,
   "id": "92f0b986",
   "metadata": {},
   "outputs": [
    {
     "data": {
      "text/plain": [
       "array(['Premium', 'Very Good', 'Ideal', 'Good', 'Fair'], dtype=object)"
      ]
     },
     "execution_count": 17,
     "metadata": {},
     "output_type": "execute_result"
    }
   ],
   "source": [
    "data['cut'].unique()"
   ]
  },
  {
   "cell_type": "code",
   "execution_count": 18,
   "id": "8be5190d",
   "metadata": {},
   "outputs": [
    {
     "data": {
      "text/plain": [
       "array(['VS2', 'SI2', 'VS1', 'SI1', 'IF', 'VVS2', 'VVS1', 'I1'],\n",
       "      dtype=object)"
      ]
     },
     "execution_count": 18,
     "metadata": {},
     "output_type": "execute_result"
    }
   ],
   "source": [
    "data['clarity'].unique()"
   ]
  },
  {
   "cell_type": "code",
   "execution_count": 19,
   "id": "b3f3c3ad",
   "metadata": {},
   "outputs": [],
   "source": [
    "\n",
    "# Define the custom ranking for each ordinal variable\n",
    "cut_categories = ['Fair', 'Good', 'Very Good','Premium','Ideal']\n",
    "color_categories = ['D', 'E', 'F', 'G', 'H', 'I', 'J']\n",
    "clarity_categories = ['I1','SI2','SI1','VS2','VS1','VVS2','VVS1','IF']"
   ]
  },
  {
   "cell_type": "code",
   "execution_count": 20,
   "id": "90ff4e62",
   "metadata": {},
   "outputs": [],
   "source": [
    "from sklearn.impute import SimpleImputer ## HAndling Missing Values\n",
    "from sklearn.preprocessing import StandardScaler # HAndling Feature Scaling\n",
    "from sklearn.preprocessing import OrdinalEncoder # Ordinal Encoding\n",
    "## pipelines\n",
    "from sklearn.pipeline import Pipeline\n",
    "from sklearn.compose import ColumnTransformer"
   ]
  },
  {
   "cell_type": "code",
   "execution_count": 21,
   "id": "8b7ef65f",
   "metadata": {},
   "outputs": [],
   "source": [
    "#numerical pipeline\n",
    "\n",
    "\n",
    "\n",
    "\n",
    "num_pipeline=Pipeline(\n",
    "    \n",
    "    \n",
    "    steps=[\n",
    "        \n",
    "        ('imputer',SimpleImputer()),\n",
    "        ('scaler', StandardScaler())\n",
    "    ]\n",
    "    \n",
    "    \n",
    ")\n",
    "    "
   ]
  },
  {
   "cell_type": "code",
   "execution_count": 22,
   "id": "12241392",
   "metadata": {},
   "outputs": [],
   "source": [
    "#catogrical pipeline \n",
    "cat_pipeline=Pipeline(\n",
    "    \n",
    "    steps=[\n",
    "        ('imputer',SimpleImputer(strategy='most_frequent')),\n",
    "        ('ordinalencoder',OrdinalEncoder(categories=[cut_categories,color_categories,clarity_categories]))\n",
    "    ]\n",
    "    \n",
    ")"
   ]
  },
  {
   "cell_type": "code",
   "execution_count": 23,
   "id": "38f78f0c",
   "metadata": {},
   "outputs": [],
   "source": [
    "#transform it \n",
    "\n",
    "preprocessor=ColumnTransformer(\n",
    "    [\n",
    "        \n",
    "        ('num_pipeline',num_pipeline,numerical_cols),\n",
    "        ('cat_pipeline',cat_pipeline,categorical_cols)\n",
    "    ]\n",
    ")"
   ]
  },
  {
   "cell_type": "code",
   "execution_count": 24,
   "id": "9a246294",
   "metadata": {},
   "outputs": [],
   "source": [
    "## Train test split\n",
    "\n",
    "from sklearn.model_selection import train_test_split\n",
    "\n",
    "x_train,x_test,y_train,y_test=train_test_split(x,y,test_size=0.30,random_state=30)"
   ]
  },
  {
   "cell_type": "code",
   "execution_count": 25,
   "id": "d716eb1d",
   "metadata": {},
   "outputs": [
    {
     "data": {
      "text/plain": [
       "array([[-0.97543926, -0.84960654, -0.12153081, ...,  4.        ,\n",
       "         5.        ,  5.        ],\n",
       "       [ 0.2351953 ,  1.83363716, -0.12153081, ...,  1.        ,\n",
       "         1.        ,  2.        ],\n",
       "       [ 0.49461699,  0.81585507,  0.39980029, ...,  3.        ,\n",
       "         3.        ,  4.        ],\n",
       "       ...,\n",
       "       [ 0.45138004,  1.55606023, -0.6428619 , ...,  1.        ,\n",
       "         3.        ,  2.        ],\n",
       "       [ 0.66756478, -1.77486298,  1.44246248, ...,  4.        ,\n",
       "         3.        ,  4.        ],\n",
       "       [ 0.25681377,  0.81585507, -0.12153081, ...,  4.        ,\n",
       "         3.        ,  2.        ]])"
      ]
     },
     "execution_count": 25,
     "metadata": {},
     "output_type": "execute_result"
    }
   ],
   "source": [
    "preprocessor.fit_transform(x_train)"
   ]
  }
 ],
 "metadata": {
  "kernelspec": {
   "display_name": "env",
   "language": "python",
   "name": "python3"
  },
  "language_info": {
   "codemirror_mode": {
    "name": "ipython",
    "version": 3
   },
   "file_extension": ".py",
   "mimetype": "text/x-python",
   "name": "python",
   "nbconvert_exporter": "python",
   "pygments_lexer": "ipython3",
   "version": "3.8.20"
  }
 },
 "nbformat": 4,
 "nbformat_minor": 5
}
