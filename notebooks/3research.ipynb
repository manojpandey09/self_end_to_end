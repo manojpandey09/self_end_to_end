{
 "cells": [
  {
   "cell_type": "code",
   "execution_count": 40,
   "id": "e4fbaa6c",
   "metadata": {},
   "outputs": [],
   "source": [
    "import logging\n",
    "import os\n",
    "from datetime import datetime\n",
    "import sys\n",
    "import os\n",
    "sys.path.append(os.path.abspath(\"..\"))  #import sys"
   ]
  },
  {
   "cell_type": "code",
   "execution_count": 41,
   "id": "fc3437e7",
   "metadata": {},
   "outputs": [
    {
     "data": {
      "text/plain": [
       "datetime.datetime(2025, 8, 28, 18, 45, 12, 227361)"
      ]
     },
     "execution_count": 41,
     "metadata": {},
     "output_type": "execute_result"
    }
   ],
   "source": [
    "datetime.now()"
   ]
  },
  {
   "cell_type": "code",
   "execution_count": 42,
   "id": "cf79f53b",
   "metadata": {},
   "outputs": [
    {
     "data": {
      "text/plain": [
       "'08_28_2025_18_45_12.log'"
      ]
     },
     "execution_count": 42,
     "metadata": {},
     "output_type": "execute_result"
    }
   ],
   "source": [
    "\n",
    "f\"{datetime.now().strftime('%m_%d_%Y_%H_%M_%S')}.log\""
   ]
  },
  {
   "cell_type": "code",
   "execution_count": 51,
   "id": "5a2e6814",
   "metadata": {},
   "outputs": [
    {
     "data": {
      "text/plain": [
       "'c:\\\\Users\\\\ASUS\\\\Downloads\\\\self_end_to_end\\\\notebooks'"
      ]
     },
     "execution_count": 51,
     "metadata": {},
     "output_type": "execute_result"
    }
   ],
   "source": [
    "os.getcwd()"
   ]
  },
  {
   "cell_type": "code",
   "execution_count": 52,
   "id": "ea4c0c00",
   "metadata": {},
   "outputs": [
    {
     "data": {
      "text/plain": [
       "'c:\\\\Users\\\\ASUS\\\\Downloads\\\\self_end_to_end\\\\notebooks\\\\logs'"
      ]
     },
     "execution_count": 52,
     "metadata": {},
     "output_type": "execute_result"
    }
   ],
   "source": [
    "\n",
    "os.path.join(os.getcwd(),\"logs\")"
   ]
  },
  {
   "cell_type": "code",
   "execution_count": 44,
   "id": "094987c0",
   "metadata": {},
   "outputs": [],
   "source": [
    "#now when u run this file it will create a log file in logs folder with current date and time as its name\n",
    "#and all the logs will be stored in that file"
   ]
  },
  {
   "cell_type": "code",
   "execution_count": 45,
   "id": "d6ea379c",
   "metadata": {},
   "outputs": [],
   "source": [
    "from src.DiamondPricePrediction.logger import logging"
   ]
  },
  {
   "cell_type": "code",
   "execution_count": 46,
   "id": "ae911803",
   "metadata": {},
   "outputs": [],
   "source": [
    "#so when u run from src.DiamondPricePrediction.logger import logging u can see a logging file created"
   ]
  },
  {
   "cell_type": "code",
   "execution_count": 47,
   "id": "a5f9dc95",
   "metadata": {},
   "outputs": [],
   "source": [
    "#now after making empty logger , if u run logging.info u can see u just testing , whatver u wrting in a logger it will pasting "
   ]
  },
  {
   "cell_type": "code",
   "execution_count": 48,
   "id": "ef46afc4",
   "metadata": {},
   "outputs": [],
   "source": [
    "logging.info(\"i am testing it again\")"
   ]
  },
  {
   "cell_type": "code",
   "execution_count": 49,
   "id": "7477119f",
   "metadata": {},
   "outputs": [],
   "source": [
    "#now till here its done , then we did coding in exception.py file\n",
    "# now we will be going to exception.py file "
   ]
  },
  {
   "cell_type": "code",
   "execution_count": null,
   "id": "3450709b",
   "metadata": {},
   "outputs": [],
   "source": [
    "#2nd after coming from exception.py file here we writing \n",
    "#rey and class with all this \n"
   ]
  },
  {
   "cell_type": "code",
   "execution_count": 54,
   "id": "dec9e99d",
   "metadata": {},
   "outputs": [],
   "source": [
    "# Add the parent directory of 'src' to sys.path\n",
    "sys.path.append(os.path.abspath(os.path.join(os.getcwd(), '..')))"
   ]
  },
  {
   "cell_type": "code",
   "execution_count": 9,
   "id": "fcdd862d",
   "metadata": {},
   "outputs": [],
   "source": [
    "log_path = os.path.join(os.getcwd(), \"logs\")\n",
    "LOG_FILE = f\"{datetime.now().strftime('%m_%d_%Y_%H_%M_%S')}.log\""
   ]
  },
  {
   "cell_type": "code",
   "execution_count": 10,
   "id": "5e4f1ad0",
   "metadata": {},
   "outputs": [],
   "source": [
    "log_file_path = os.path.join(log_path, LOG_FILE)\n",
    "\n",
    "logging.basicConfig(\n",
    "    filename=log_file_path,\n",
    "    level=logging.INFO,\n",
    "    format='%(asctime)s %(levelname)s %(message)s'\n",
    ")"
   ]
  },
  {
   "cell_type": "code",
   "execution_count": 11,
   "id": "ed2630ff",
   "metadata": {},
   "outputs": [],
   "source": [
    "logging.info(\"i just testing the manoj logger\")"
   ]
  },
  {
   "cell_type": "code",
   "execution_count": 12,
   "id": "d9e3a0a2",
   "metadata": {},
   "outputs": [
    {
     "data": {
      "text/plain": [
       "(None, None, None)"
      ]
     },
     "execution_count": 12,
     "metadata": {},
     "output_type": "execute_result"
    }
   ],
   "source": [
    "sys.exc_info()"
   ]
  },
  {
   "cell_type": "code",
   "execution_count": 13,
   "id": "dbaf9ca1",
   "metadata": {},
   "outputs": [],
   "source": [
    "import sys\n",
    "\n",
    "\n",
    "class customexception(Exception):\n",
    "    def __init__(self,error_message,error_details:sys):\n",
    "        self.error_message = error_message\n",
    "        _,_,exc_tb = error_details.exc_info()\n",
    "        \n",
    "        self.lineno=exc_tb.tb_lineno\n",
    "        self.file_name=exc_tb.tb_frame.f_code.co_filename \n",
    "    \n",
    "    def __str__(self):\n",
    "        return \"Error occured in python script name [{0}] line number [{1}] error message [{2}]\".format(\n",
    "        self.file_name, self.lineno, str(self.error_message))\n",
    "        "
   ]
  },
  {
   "cell_type": "code",
   "execution_count": 14,
   "id": "80e2dc73",
   "metadata": {},
   "outputs": [],
   "source": [
    "import sys"
   ]
  },
  {
   "cell_type": "code",
   "execution_count": 15,
   "id": "811000f0",
   "metadata": {},
   "outputs": [
    {
     "name": "stdout",
     "output_type": "stream",
     "text": [
      "2\n",
      "C:\\Users\\ASUS\\AppData\\Local\\Temp\\ipykernel_24372\\1901770474.py\n",
      "division by zero\n"
     ]
    }
   ],
   "source": [
    "try:\n",
    "     a=1/0\n",
    "except Exception as e:\n",
    "     _,_,exc_tb=sys.exc_info()\n",
    "     print(exc_tb.tb_lineno)\n",
    "     print(exc_tb.tb_frame.f_code.co_filename)\n",
    "     \n",
    "     print(e)"
   ]
  },
  {
   "cell_type": "code",
   "execution_count": null,
   "id": "4f7ff3b6",
   "metadata": {},
   "outputs": [],
   "source": [
    "#### now we will move to the the darta_ingestion.py file\n"
   ]
  },
  {
   "cell_type": "code",
   "execution_count": 16,
   "id": "2f0d6817",
   "metadata": {},
   "outputs": [],
   "source": [
    "class customexception(Exception):\n",
    "    def __init__(self):\n",
    "        pass\n",
    "    \n",
    "    def __str__(self):\n",
    "        pass\n"
   ]
  },
  {
   "cell_type": "code",
   "execution_count": 17,
   "id": "a3d1dc53",
   "metadata": {},
   "outputs": [],
   "source": [
    "from src.DiamondPricePrediction.logger import logging"
   ]
  },
  {
   "cell_type": "code",
   "execution_count": 21,
   "id": "c95425b6",
   "metadata": {},
   "outputs": [],
   "source": [
    "logging.info(\"so here is loggin \")"
   ]
  },
  {
   "cell_type": "code",
   "execution_count": 19,
   "id": "d6f36b2d",
   "metadata": {},
   "outputs": [],
   "source": [
    "os.makedirs(os.path.dirname(os.path.join(\"artifacts\" , \"raw.csv\")), exist_ok = True)"
   ]
  },
  {
   "cell_type": "code",
   "execution_count": null,
   "id": "01f922ef",
   "metadata": {},
   "outputs": [],
   "source": []
  }
 ],
 "metadata": {
  "kernelspec": {
   "display_name": "base",
   "language": "python",
   "name": "python3"
  },
  "language_info": {
   "codemirror_mode": {
    "name": "ipython",
    "version": 3
   },
   "file_extension": ".py",
   "mimetype": "text/x-python",
   "name": "python",
   "nbconvert_exporter": "python",
   "pygments_lexer": "ipython3",
   "version": "3.12.3"
  }
 },
 "nbformat": 4,
 "nbformat_minor": 5
}
